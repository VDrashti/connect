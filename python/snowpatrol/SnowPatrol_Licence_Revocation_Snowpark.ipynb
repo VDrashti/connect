{
 "cells": [
  {
   "attachments": {},
   "cell_type": "markdown",
   "id": "c0a66216",
   "metadata": {},
   "source": [
    "## Imports"
   ]
  },
  {
   "cell_type": "code",
   "execution_count": 1,
   "id": "a4262641",
   "metadata": {},
   "outputs": [],
   "source": [
    "%load_ext autoreload\n",
    "%autoreload 2"
   ]
  },
  {
   "cell_type": "code",
   "execution_count": 2,
   "metadata": {},
   "outputs": [
    {
     "name": "stdout",
     "output_type": "stream",
     "text": [
      "Modules to reload:\n",
      "all-except-skipped\n",
      "\n",
      "Modules to skip:\n",
      "\n"
     ]
    }
   ],
   "source": [
    "%aimport"
   ]
  },
  {
   "cell_type": "code",
   "execution_count": 3,
   "id": "19d5e056-5096-473e-9ecd-1b7f56582122",
   "metadata": {
    "tags": []
   },
   "outputs": [],
   "source": [
    "import json\n",
    "from snowflake.snowpark.session import Session\n",
    "import snowflake.snowpark.functions as F\n",
    "import snowflake.snowpark.types as T\n",
    "from dotenv import find_dotenv\n",
    "from pathlib import Path\n",
    "import sys\n",
    "\n",
    "project_home = Path(find_dotenv()).parent\n",
    "sys.path.append(str(project_home))\n",
    "\n",
    "from constants import *\n"
   ]
  },
  {
   "attachments": {},
   "cell_type": "markdown",
   "id": "c198a317",
   "metadata": {},
   "source": [
    "## Data Pipline"
   ]
  },
  {
   "attachments": {},
   "cell_type": "markdown",
   "id": "4188b7f7",
   "metadata": {},
   "source": [
    "### Snowpark Session"
   ]
  },
  {
   "cell_type": "code",
   "execution_count": 4,
   "id": "9b14f766",
   "metadata": {},
   "outputs": [],
   "source": [
    "with open(project_home / 'config/creds.json', 'r') as ff:\n",
    "    conn_param=json.load(ff)\n",
    "\n",
    "session = Session.builder.configs(conn_param).create() \n"
   ]
  },
  {
   "attachments": {},
   "cell_type": "markdown",
   "id": "77f2cbd0",
   "metadata": {},
   "source": [
    "### Database, Schema & resource creation"
   ]
  },
  {
   "cell_type": "code",
   "execution_count": 23,
   "id": "dabbd4cd",
   "metadata": {},
   "outputs": [
    {
     "data": {
      "text/plain": [
       "[Row(status='FF_CSV_WITH_HEADER already exists, statement succeeded.')]"
      ]
     },
     "execution_count": 23,
     "metadata": {},
     "output_type": "execute_result"
    }
   ],
   "source": [
    "session.sql(f\"create database if not exists {SNOWPATROL_DB}\").collect()\n",
    "session.sql(f\"create schema if not exists {SNOWPATROL_DB}.{SNOWPATROL_SCHEMA}\").collect()\n",
    "session.sql(f\"create stage if not exists {SNOWPATROL_DB}.{SNOWPATROL_SCHEMA}.{DATA_STAGE}\").collect()\n",
    "session.sql(f\"create stage if not exists {SNOWPATROL_DB}.{SNOWPATROL_SCHEMA}.{DEPS_STAGE}\").collect()\n",
    "session.sql(f\"create stage if not exists {SNOWPATROL_DB}.{SNOWPATROL_SCHEMA}.{MODELS_STAGE}\").collect()\n",
    "session.sql(f\"create stage if not exists {SNOWPATROL_DB}.{SNOWPATROL_SCHEMA}.{OBJECT_STAGE}\").collect()\n",
    "\n",
    "# This File Format uses a special option available for CSV schema inference\n",
    "session.sql(f\"create file format if not exists {SNOWPATROL_DB}.{SNOWPATROL_SCHEMA}.ff_csv_with_header type=CSV parse_header=TRUE field_optionally_enclosed_by='\\\"'\").collect()"
   ]
  },
  {
   "attachments": {},
   "cell_type": "markdown",
   "id": "d05adae2",
   "metadata": {},
   "source": [
    "### Sample data upload"
   ]
  },
  {
   "cell_type": "code",
   "execution_count": 24,
   "id": "dfcb38b2",
   "metadata": {},
   "outputs": [
    {
     "data": {
      "text/plain": [
       "[Row(source='monitored_apps.csv', target='monitored_apps.csv.gz', source_size=64, target_size=112, source_compression='NONE', target_compression='GZIP', status='UPLOADED', message='')]"
      ]
     },
     "execution_count": 24,
     "metadata": {},
     "output_type": "execute_result"
    }
   ],
   "source": [
    "data_dir = project_home / \"data\" \n",
    "session.sql(f\"PUT file://{project_home}/data/obfuscated/* @{SNOWPATROL_DB}.{SNOWPATROL_SCHEMA}.{DATA_STAGE} overwrite=True auto_compress=True\").collect()\n",
    "session.sql(f\"PUT file://{project_home}/data/generated/whitelisted_users.csv @{SNOWPATROL_DB}.{SNOWPATROL_SCHEMA}.{DATA_STAGE} overwrite=True auto_compress=True\").collect()\n",
    "session.sql(f\"PUT file://{project_home}/data/generated/sample_okta_logs.csv @{SNOWPATROL_DB}.{SNOWPATROL_SCHEMA}.{DATA_STAGE} overwrite=True auto_compress=True\").collect()\n",
    "session.sql(f\"PUT file://{project_home}/data/generated/monitored_apps.csv @{SNOWPATROL_DB}.{SNOWPATROL_SCHEMA}.{DATA_STAGE} overwrite=True auto_compress=True\").collect()\n",
    "\n"
   ]
  },
  {
   "cell_type": "code",
   "execution_count": 25,
   "id": "c5189fbc",
   "metadata": {},
   "outputs": [
    {
     "data": {
      "text/plain": [
       "[Row(source='constants.py', target='constants.py', source_size=558, target_size=560, source_compression='NONE', target_compression='NONE', status='UPLOADED', message='')]"
      ]
     },
     "execution_count": 25,
     "metadata": {},
     "output_type": "execute_result"
    }
   ],
   "source": [
    "\n",
    "session.sql(f\"PUT file://{project_home}/src/python/snowpatrol/train.py @{SNOWPATROL_DB}.{SNOWPATROL_SCHEMA}.{DEPS_STAGE} overwrite=True auto_compress=False\").collect()\n",
    "session.sql(f\"PUT file://{project_home}/src/python/snowpatrol/constants.py @{SNOWPATROL_DB}.{SNOWPATROL_SCHEMA}.{DEPS_STAGE} overwrite=True auto_compress=False\").collect()"
   ]
  },
  {
   "attachments": {},
   "cell_type": "markdown",
   "id": "fc8ae9f0",
   "metadata": {},
   "source": [
    "### Table creation to hold source data - FP data\n",
    "\n",
    "> Note: Uses Schema detection on CSV"
   ]
  },
  {
   "cell_type": "code",
   "execution_count": 26,
   "id": "1bd03acf",
   "metadata": {},
   "outputs": [
    {
     "data": {
      "text/plain": [
       "[Row(status='WHITELISTED_USERS already exists, statement succeeded.')]"
      ]
     },
     "execution_count": 26,
     "metadata": {},
     "output_type": "execute_result"
    }
   ],
   "source": [
    "session.sql(\n",
    "    f\"\"\"\n",
    "    CREATE TABLE IF NOT EXISTS {SNOWPATROL_DB}.{SNOWPATROL_SCHEMA}.{TBL_MONITORED_APPS}\n",
    "    USING TEMPLATE (\n",
    "    SELECT ARRAY_AGG(OBJECT_CONSTRUCT(*))\n",
    "      FROM TABLE(\n",
    "        INFER_SCHEMA(\n",
    "          LOCATION=>'@{SNOWPATROL_DB}.{SNOWPATROL_SCHEMA}.{DATA_STAGE}/monitored_apps.csv',\n",
    "          FILE_FORMAT=>'snowpatrol.main.ff_csv_with_header',\n",
    "          IGNORE_CASE => TRUE\n",
    "        )\n",
    "      ))\n",
    "    \"\"\"\n",
    ").collect()\n",
    "\n",
    "session.sql(\n",
    "    f\"\"\"\n",
    "    CREATE TABLE IF NOT EXISTS {SNOWPATROL_DB}.{SNOWPATROL_SCHEMA}.{TBL_OKTA_USERS}\n",
    "    USING TEMPLATE (\n",
    "    SELECT ARRAY_AGG(OBJECT_CONSTRUCT(*))\n",
    "      FROM TABLE(\n",
    "        INFER_SCHEMA(\n",
    "          LOCATION=>'@{SNOWPATROL_DB}.{SNOWPATROL_SCHEMA}.{DATA_STAGE}/sample_okta_logs.csv',\n",
    "          FILE_FORMAT=>'snowpatrol.main.ff_csv_with_header',\n",
    "          IGNORE_CASE => TRUE\n",
    "        )\n",
    "      ))\n",
    "    \"\"\"\n",
    ").collect()\n",
    "\n",
    "session.sql(\n",
    "    f\"\"\"\n",
    "    CREATE TABLE IF NOT EXISTS {SNOWPATROL_DB}.{SNOWPATROL_SCHEMA}.{TBL_APP_LOGS}\n",
    "    USING TEMPLATE (\n",
    "    SELECT ARRAY_AGG(OBJECT_CONSTRUCT(*))\n",
    "      FROM TABLE(\n",
    "        INFER_SCHEMA(\n",
    "          LOCATION=>'@{SNOWPATROL_DB}.{SNOWPATROL_SCHEMA}.{DATA_STAGE}/SnowPatrol_validation_data_app1 _.csv',\n",
    "          FILE_FORMAT=>'snowpatrol.main.ff_csv_with_header',\n",
    "          IGNORE_CASE => TRUE\n",
    "        )\n",
    "      ))\n",
    "    \"\"\"\n",
    ").collect()\n",
    "\n",
    "session.sql(\n",
    "    f\"\"\"\n",
    "    CREATE TABLE IF NOT EXISTS {SNOWPATROL_DB}.{SNOWPATROL_SCHEMA}.{TBL_WORK_DAYS}\n",
    "    USING TEMPLATE (\n",
    "    SELECT ARRAY_AGG(OBJECT_CONSTRUCT(*))\n",
    "      FROM TABLE(\n",
    "        INFER_SCHEMA(\n",
    "          LOCATION=>'@{SNOWPATROL_DB}.{SNOWPATROL_SCHEMA}.{DATA_STAGE}/SnowPatrol_Working_Days.csv',\n",
    "          FILE_FORMAT=>'snowpatrol.main.ff_csv_with_header',\n",
    "          IGNORE_CASE => TRUE\n",
    "        )\n",
    "      ))\n",
    "    \"\"\"\n",
    ").collect()\n",
    "\n",
    "session.sql(\n",
    "    f\"\"\"\n",
    "    CREATE TABLE IF NOT EXISTS {SNOWPATROL_DB}.{SNOWPATROL_SCHEMA}.{TBL_EMPLOYEE_METADATA}\n",
    "    USING TEMPLATE (\n",
    "    SELECT ARRAY_AGG(OBJECT_CONSTRUCT(*))\n",
    "      FROM TABLE(\n",
    "        INFER_SCHEMA(\n",
    "          LOCATION=>'@{SNOWPATROL_DB}.{SNOWPATROL_SCHEMA}.{DATA_STAGE}/SnowPatrol_validation_emp_details_app1.csv',\n",
    "          FILE_FORMAT=>'snowpatrol.main.ff_csv_with_header',\n",
    "          IGNORE_CASE => TRUE\n",
    "        )\n",
    "      ))\n",
    "    \"\"\"\n",
    ").collect()\n",
    "\n",
    "session.sql(\n",
    "    f\"\"\"\n",
    "    CREATE TABLE IF NOT EXISTS {SNOWPATROL_DB}.{SNOWPATROL_SCHEMA}.{TBL_WHITELISTED_USERS}\n",
    "    USING TEMPLATE (\n",
    "    SELECT ARRAY_AGG(OBJECT_CONSTRUCT(*))\n",
    "      FROM TABLE(\n",
    "        INFER_SCHEMA(\n",
    "          LOCATION=>'@{SNOWPATROL_DB}.{SNOWPATROL_SCHEMA}.{DATA_STAGE}/whitelisted_users.csv',\n",
    "          FILE_FORMAT=>'snowpatrol.main.ff_csv_with_header',\n",
    "          IGNORE_CASE => TRUE\n",
    "        )\n",
    "      ))\n",
    "    \"\"\"\n",
    ").collect()"
   ]
  },
  {
   "attachments": {},
   "cell_type": "markdown",
   "id": "5995397e",
   "metadata": {},
   "source": [
    "### Copying data into respective source tables"
   ]
  },
  {
   "cell_type": "code",
   "execution_count": 27,
   "id": "f0fabc1c",
   "metadata": {},
   "outputs": [
    {
     "data": {
      "text/plain": [
       "[Row(file='data/whitelisted_users.csv.gz', status='LOADED', rows_parsed=1, rows_loaded=1, error_limit=1, errors_seen=0, first_error=None, first_error_line=None, first_error_character=None, first_error_column_name=None)]"
      ]
     },
     "execution_count": 27,
     "metadata": {},
     "output_type": "execute_result"
    }
   ],
   "source": [
    "session.sql(f\"TRUNCATE TABLE {SNOWPATROL_DB}.{SNOWPATROL_SCHEMA}.{TBL_MONITORED_APPS}\").collect()\n",
    "session.sql(\n",
    "    f\"\"\" \n",
    "    copy into {SNOWPATROL_DB}.{SNOWPATROL_SCHEMA}.{TBL_MONITORED_APPS}\n",
    "    from @{SNOWPATROL_DB}.{SNOWPATROL_SCHEMA}.{DATA_STAGE}\n",
    "    files = ('monitored_apps.csv.gz') \n",
    "    file_format = (type = CSV skip_header=1 field_optionally_enclosed_by='\"')\n",
    "\"\"\").collect()\n",
    "\n",
    "session.sql(f\"TRUNCATE TABLE {SNOWPATROL_DB}.{SNOWPATROL_SCHEMA}.{TBL_OKTA_USERS}\").collect()\n",
    "session.sql(\n",
    "    f\"\"\" \n",
    "    copy into {SNOWPATROL_DB}.{SNOWPATROL_SCHEMA}.{TBL_OKTA_USERS}\n",
    "    from @{SNOWPATROL_DB}.{SNOWPATROL_SCHEMA}.{DATA_STAGE}\n",
    "    files = ('sample_okta_logs.csv.gz') \n",
    "    file_format = (type = CSV skip_header=1 field_optionally_enclosed_by='\"')\n",
    "\"\"\").collect()\n",
    "\n",
    "session.sql(f\"TRUNCATE TABLE {SNOWPATROL_DB}.{SNOWPATROL_SCHEMA}.{TBL_APP_LOGS}\").collect()\n",
    "\n",
    "session.sql(\n",
    "    f\"\"\" \n",
    "    copy into {SNOWPATROL_DB}.{SNOWPATROL_SCHEMA}.{TBL_APP_LOGS}\n",
    "    from @{SNOWPATROL_DB}.{SNOWPATROL_SCHEMA}.{DATA_STAGE}\n",
    "    files = ('SnowPatrol_validation_data_app1 _.csv.gz', 'SnowPatrol_validation_data_app2 _.csv.gz', 'SnowPatrol_validation_data_app3 _.csv.gz','SnowPatrol_validation_data_app4 _.csv.gz')\n",
    "    file_format = (type = CSV skip_header=1 field_optionally_enclosed_by='\"')\n",
    "\"\"\").collect()\n",
    "\n",
    "# Sample work days table - company schedule of whether each day is a work day or not\n",
    "session.sql(f\"TRUNCATE TABLE {SNOWPATROL_DB}.{SNOWPATROL_SCHEMA}.{TBL_WORK_DAYS}\").collect()\n",
    "\n",
    "session.sql(\n",
    "    f\"\"\" \n",
    "    copy into {SNOWPATROL_DB}.{SNOWPATROL_SCHEMA}.{TBL_WORK_DAYS}\n",
    "    from @{SNOWPATROL_DB}.{SNOWPATROL_SCHEMA}.{DATA_STAGE}\n",
    "    files = ('SnowPatrol_Working_Days.csv.gz')\n",
    "    file_format = (type = CSV skip_header=1 field_optionally_enclosed_by='\"')\n",
    "\"\"\").collect()\n",
    "\n",
    "session.sql(f\"TRUNCATE TABLE {SNOWPATROL_DB}.{SNOWPATROL_SCHEMA}.{TBL_EMPLOYEE_METADATA}\").collect()\n",
    "\n",
    "session.sql(\n",
    "    f\"\"\" \n",
    "    copy into {SNOWPATROL_DB}.{SNOWPATROL_SCHEMA}.{TBL_EMPLOYEE_METADATA}\n",
    "    from @{SNOWPATROL_DB}.{SNOWPATROL_SCHEMA}.{DATA_STAGE}\n",
    "    files = ('SnowPatrol_validation_emp_details_app1.csv.gz','SnowPatrol_validation_emp_details_app2.csv.gz','SnowPatrol_validation_emp_details_app3.csv.gz','SnowPatrol_validation_emp_details_app4.csv.gz')\n",
    "    file_format = (type = CSV skip_header=1 field_optionally_enclosed_by='\"')\n",
    "\"\"\").collect()\n",
    "\n",
    "session.sql(\n",
    "    f\"\"\" \n",
    "    copy into {SNOWPATROL_DB}.{SNOWPATROL_SCHEMA}.{TBL_WHITELISTED_USERS}\n",
    "    from @{SNOWPATROL_DB}.{SNOWPATROL_SCHEMA}.{DATA_STAGE}\n",
    "    files = ('whitelisted_users.csv.gz') \n",
    "    file_format = (type = CSV skip_header=1 field_optionally_enclosed_by='\"')\n",
    "\"\"\").collect()"
   ]
  },
  {
   "attachments": {},
   "cell_type": "markdown",
   "id": "29ab4816",
   "metadata": {},
   "source": [
    "### Local utility functions"
   ]
  },
  {
   "cell_type": "code",
   "execution_count": 28,
   "id": "0aa2b2a1",
   "metadata": {},
   "outputs": [
    {
     "data": {
      "text/plain": [
       "<snowflake.snowpark.udf.UserDefinedFunction at 0x1ce89d83f10>"
      ]
     },
     "execution_count": 28,
     "metadata": {},
     "output_type": "execute_result"
    }
   ],
   "source": [
    "session.sql('use database snowpatrol').collect()\n",
    "session.udf.register_from_file(\n",
    "      file_path=\"train.py\"\n",
    "      , func_name=\"contains_anyof\"\n",
    "      , name=f\"{SNOWPATROL_DB}.{SNOWPATROL_SCHEMA}.udf_contains_anyof\"\n",
    "      , is_permanent=True\n",
    "      , packages = [\"snowflake-snowpark-python\"]\n",
    "      , imports=[f\"@{SNOWPATROL_DB}.{SNOWPATROL_SCHEMA}.{DEPS_STAGE}/constants.py\"]\n",
    "      , stage_location=f\"{SNOWPATROL_DB}.{SNOWPATROL_SCHEMA}.{OBJECT_STAGE}\"\n",
    "      , replace=True\n",
    ")"
   ]
  },
  {
   "attachments": {},
   "cell_type": "markdown",
   "id": "46b6077d",
   "metadata": {},
   "source": [
    "### Model Training"
   ]
  },
  {
   "cell_type": "code",
   "execution_count": 29,
   "id": "51681e96",
   "metadata": {},
   "outputs": [
    {
     "name": "stderr",
     "output_type": "stream",
     "text": [
      "The version of package 'joblib' in the local environment is 1.3.2, which does not fit the criteria for the requirement 'joblib==1.1.1'. Your UDF might not work when the package version is different between the server and your local environment.\n"
     ]
    },
    {
     "data": {
      "text/plain": [
       "<snowflake.snowpark.stored_procedure.StoredProcedure at 0x1ce8c736e90>"
      ]
     },
     "execution_count": 29,
     "metadata": {},
     "output_type": "execute_result"
    }
   ],
   "source": [
    "session.sproc.register_from_file(\n",
    "    file_path = f\"@{SNOWPATROL_DB}.{SNOWPATROL_SCHEMA}.{DEPS_STAGE}/train.py\"\n",
    "    ,func_name = \"run_model_today\"\n",
    "    ,name=f\"{SNOWPATROL_DB}.{SNOWPATROL_SCHEMA}.run_model_today\"\n",
    "    ,input_types=[T.IntegerType(),T.IntegerType(),T.FloatType(),T.BooleanType(),T.BooleanType(),T.BooleanType(), T.BooleanType()]\n",
    "    ,return_type=T.VariantType()\n",
    "    ,is_permanent=True\n",
    "    ,replace=True\n",
    "    ,stage_location=f\"@{SNOWPATROL_DB}.{SNOWPATROL_SCHEMA}.{OBJECT_STAGE}\"\n",
    "    ,packages=['snowflake-snowpark-python','pandas','scikit-learn==1.2.1','joblib==1.1.1', 'numpy']\n",
    "    ,imports=[f\"@{SNOWPATROL_DB}.{SNOWPATROL_SCHEMA}.{DEPS_STAGE}/constants.py\"]\n",
    ")"
   ]
  },
  {
   "attachments": {},
   "cell_type": "markdown",
   "id": "04883492",
   "metadata": {},
   "source": [
    "## License usage probablity prediction with revocation decision\n",
    "Local trigger"
   ]
  },
  {
   "cell_type": "code",
   "execution_count": null,
   "id": "8fc4cdde",
   "metadata": {},
   "outputs": [],
   "source": []
  },
  {
   "cell_type": "code",
   "execution_count": null,
   "id": "b0528570",
   "metadata": {},
   "outputs": [
    {
     "ename": "",
     "evalue": "",
     "output_type": "error",
     "traceback": [
      "\u001b[1;31mThe Kernel crashed while executing code in the the current cell or a previous cell. Please review the code in the cell(s) to identify a possible cause of the failure. Click <a href='https://aka.ms/vscodeJupyterKernelCrash'>here</a> for more info. View Jupyter <a href='command:jupyter.viewOutput'>log</a> for further details."
     ]
    }
   ],
   "source": [
    "%%time\n",
    "from train import run_model_today\n",
    "# results = session.call('run_model_today', 1,45,0.5,False,False,False,False)\n",
    "# display(results)"
   ]
  },
  {
   "cell_type": "code",
   "execution_count": 5,
   "id": "7e1feb33",
   "metadata": {},
   "outputs": [
    {
     "ename": "",
     "evalue": "",
     "output_type": "error",
     "traceback": [
      "\u001b[1;31mThe Kernel crashed while executing code in the the current cell or a previous cell. Please review the code in the cell(s) to identify a possible cause of the failure. Click <a href='https://aka.ms/vscodeJupyterKernelCrash'>here</a> for more info. View Jupyter <a href='command:jupyter.viewOutput'>log</a> for further details."
     ]
    }
   ],
   "source": [
    "# import pandas as pd\n",
    "# def get_revocation_recommendations(app_id, run_id) :\n",
    "#         try:\n",
    "#             result = session.table(f\"{TBL_LICENSE_REVOCATION_RECOMMENDATION}\")\\\n",
    "#             .filter((F.col(\"app_id\") == F.lit(app_id)) & F.iff(F.lit(run_id).isNotNull(), F.col(\"run_id\") == F.lit(run_id), F.lit(True)))\\\n",
    "#             .select(\"*\")\\\n",
    "#             .to_pandas()\n",
    "#         except:\n",
    "#             result = pd.DataFrame()\n",
    "#         return result"
   ]
  },
  {
   "cell_type": "code",
   "execution_count": 16,
   "id": "2b03bef5",
   "metadata": {},
   "outputs": [
    {
     "data": {
      "text/html": [
       "<div>\n",
       "<style scoped>\n",
       "    .dataframe tbody tr th:only-of-type {\n",
       "        vertical-align: middle;\n",
       "    }\n",
       "\n",
       "    .dataframe tbody tr th {\n",
       "        vertical-align: top;\n",
       "    }\n",
       "\n",
       "    .dataframe thead th {\n",
       "        text-align: right;\n",
       "    }\n",
       "</style>\n",
       "<table border=\"1\" class=\"dataframe\">\n",
       "  <thead>\n",
       "    <tr style=\"text-align: right;\">\n",
       "      <th></th>\n",
       "    </tr>\n",
       "  </thead>\n",
       "  <tbody>\n",
       "  </tbody>\n",
       "</table>\n",
       "</div>"
      ],
      "text/plain": [
       "Empty DataFrame\n",
       "Columns: []\n",
       "Index: []"
      ]
     },
     "execution_count": 16,
     "metadata": {},
     "output_type": "execute_result"
    }
   ],
   "source": [
    "# # # %%time\n",
    "# # from train import run_model_today\n",
    "\n",
    "# session.sql(\"use database snowpatrol\").collect()\n",
    "# session.sql(\"use schema main\").collect()\n",
    "# recommendations_df = pd.DataFrame()\n",
    "    \n",
    "# app_id=1\n",
    "# response = session.call('run_model_today',1, 60,0.50,True,True,False,False)\n",
    "# response = json.loads(response)\n",
    "# recommendations_df1 =get_revocation_recommendations(app_id, response['run_id'])\n",
    "# recommendations_df1[\"cost\"]=10\n",
    "\n",
    "# app_id=2\n",
    "# response = session.call('run_model_today',2\n",
    "#                                     , 60\n",
    "#                                     ,0.50\n",
    "#                                     ,True,True,False\n",
    "#                                     ,False)\n",
    "# response = json.loads(response)\n",
    "\n",
    "# recommendations_df2  =get_revocation_recommendations(app_id, response['run_id'])\n",
    "# recommendations_df2[\"cost\"]=6\n",
    "\n",
    "# app_id=3\n",
    "# response = session.call('run_model_today',3\n",
    "#                                     , 60\n",
    "#                                     ,0.50\n",
    "#                                     ,True,True,False\n",
    "#                                     ,False)\n",
    "# response = json.loads(response)\n",
    "# recommendations_df3  =get_revocation_recommendations(app_id, response['run_id'])\n",
    "\n",
    "# recommendations_df3[\"cost\"]=10\n",
    "# app_id=4\n",
    "# response = session.call('run_model_today',4\n",
    "#                                     ,60\n",
    "#                                     ,0.50\n",
    "#                                     ,True,True,False\n",
    "#                                     ,False)\n",
    "# response = json.loads(response)\n",
    "# recommendations_df4  =get_revocation_recommendations(app_id, response['run_id'])\n",
    "# recommendations_df4\n",
    "# # recommendations_df4[\"cost\"]=8\n",
    "# # recommendations_df=recommendations_df1\n",
    "# # recommendations_df = recommendations_df.append(recommendations_df2, ignore_index=True)\n",
    "# # recommendations_df = recommendations_df.append(recommendations_df3, ignore_index=True)\n",
    "# # recommendations_df = recommendations_df.append(recommendations_df4, ignore_index=True)\n",
    "# # recommendations_df.to_csv('../../../data/obfuscated/revoc.csv', index=False)\n"
   ]
  },
  {
   "cell_type": "code",
   "execution_count": 14,
   "id": "8d1075d0",
   "metadata": {},
   "outputs": [
    {
     "data": {
      "text/plain": [
       "[Row(source='SnowPatrol_Working_Days.csv', target='SnowPatrol_Working_Days.csv.gz', source_size=12666, target_size=1904, source_compression='NONE', target_compression='GZIP', status='UPLOADED', message=''),\n",
       " Row(source='SnowPatrol_validation_data_app1 _.csv', target='SnowPatrol_validation_data_app1 _.csv.gz', source_size=19836, target_size=5216, source_compression='NONE', target_compression='GZIP', status='UPLOADED', message=''),\n",
       " Row(source='SnowPatrol_validation_data_app2 _.csv', target='SnowPatrol_validation_data_app2 _.csv.gz', source_size=1689, target_size=608, source_compression='NONE', target_compression='GZIP', status='UPLOADED', message=''),\n",
       " Row(source='SnowPatrol_validation_data_app3 _.csv', target='SnowPatrol_validation_data_app3 _.csv.gz', source_size=3740, target_size=1264, source_compression='NONE', target_compression='GZIP', status='UPLOADED', message=''),\n",
       " Row(source='SnowPatrol_validation_data_app4 _.csv', target='SnowPatrol_validation_data_app4 _.csv.gz', source_size=5223, target_size=1520, source_compression='NONE', target_compression='GZIP', status='UPLOADED', message=''),\n",
       " Row(source='SnowPatrol_validation_emp_details_app1.csv', target='SnowPatrol_validation_emp_details_app1.csv.gz', source_size=36789, target_size=5696, source_compression='NONE', target_compression='GZIP', status='UPLOADED', message=''),\n",
       " Row(source='SnowPatrol_validation_emp_details_app2.csv', target='SnowPatrol_validation_emp_details_app2.csv.gz', source_size=2466, target_size=720, source_compression='NONE', target_compression='GZIP', status='UPLOADED', message=''),\n",
       " Row(source='SnowPatrol_validation_emp_details_app3.csv', target='SnowPatrol_validation_emp_details_app3.csv.gz', source_size=6877, target_size=1376, source_compression='NONE', target_compression='GZIP', status='UPLOADED', message=''),\n",
       " Row(source='SnowPatrol_validation_emp_details_app4.csv', target='SnowPatrol_validation_emp_details_app4.csv.gz', source_size=8620, target_size=2048, source_compression='NONE', target_compression='GZIP', status='UPLOADED', message=''),\n",
       " Row(source='revoc.csv', target='revoc.csv.gz', source_size=6, target_size=48, source_compression='NONE', target_compression='GZIP', status='UPLOADED', message=''),\n",
       " Row(source='udemy.csv', target='udemy.csv.gz', source_size=37893, target_size=8752, source_compression='NONE', target_compression='GZIP', status='UPLOADED', message='')]"
      ]
     },
     "execution_count": 14,
     "metadata": {},
     "output_type": "execute_result"
    }
   ],
   "source": [
    "# data_dir = project_home / \"data\" \n",
    "# session.sql(f\"PUT file://{project_home}/data/obfuscated/* @{SNOWPATROL_DB}.{SNOWPATROL_SCHEMA}.{DATA_STAGE} overwrite=True auto_compress=True\").collect()"
   ]
  },
  {
   "cell_type": "code",
   "execution_count": 15,
   "id": "84027b49",
   "metadata": {},
   "outputs": [
    {
     "ename": "SnowparkSQLException",
     "evalue": "(1304): 01af4427-3200-e77f-0004-089e0004e5fe: 000668 (22023): SQL compilation error:\nInvalid template: template must be a non-null JSON array\n",
     "output_type": "error",
     "traceback": [
      "\u001b[1;31m---------------------------------------------------------------------------\u001b[0m",
      "\u001b[1;31mSnowparkSQLException\u001b[0m                      Traceback (most recent call last)",
      "\u001b[1;32mc:\\Users\\Harika.pedapudi\\Desktop\\work\\src\\python\\snowpatrol\\SnowPatrol_Licence_Revocation_Snowpark.ipynb Cell 27\u001b[0m line \u001b[0;36m1\n\u001b[0;32m      <a href='vscode-notebook-cell:/c%3A/Users/Harika.pedapudi/Desktop/work/src/python/snowpatrol/SnowPatrol_Licence_Revocation_Snowpark.ipynb#X36sZmlsZQ%3D%3D?line=0'>1</a>\u001b[0m session\u001b[39m.\u001b[39;49msql(\n\u001b[0;32m      <a href='vscode-notebook-cell:/c%3A/Users/Harika.pedapudi/Desktop/work/src/python/snowpatrol/SnowPatrol_Licence_Revocation_Snowpark.ipynb#X36sZmlsZQ%3D%3D?line=1'>2</a>\u001b[0m     \u001b[39mf\u001b[39;49m\u001b[39m\"\"\"\u001b[39;49m\n\u001b[0;32m      <a href='vscode-notebook-cell:/c%3A/Users/Harika.pedapudi/Desktop/work/src/python/snowpatrol/SnowPatrol_Licence_Revocation_Snowpark.ipynb#X36sZmlsZQ%3D%3D?line=2'>3</a>\u001b[0m \u001b[39m    CREATE TABLE IF NOT EXISTS \u001b[39;49m\u001b[39m{\u001b[39;49;00mSNOWPATROL_DB\u001b[39m}\u001b[39;49;00m\u001b[39m.\u001b[39;49m\u001b[39m{\u001b[39;49;00mSNOWPATROL_SCHEMA\u001b[39m}\u001b[39;49;00m\u001b[39m.\u001b[39;49m\u001b[39m{\u001b[39;49;00mTBL_REVOC\u001b[39m}\u001b[39;49;00m\n\u001b[0;32m      <a href='vscode-notebook-cell:/c%3A/Users/Harika.pedapudi/Desktop/work/src/python/snowpatrol/SnowPatrol_Licence_Revocation_Snowpark.ipynb#X36sZmlsZQ%3D%3D?line=3'>4</a>\u001b[0m \u001b[39m    USING TEMPLATE (\u001b[39;49m\n\u001b[0;32m      <a href='vscode-notebook-cell:/c%3A/Users/Harika.pedapudi/Desktop/work/src/python/snowpatrol/SnowPatrol_Licence_Revocation_Snowpark.ipynb#X36sZmlsZQ%3D%3D?line=4'>5</a>\u001b[0m \u001b[39m    SELECT ARRAY_AGG(OBJECT_CONSTRUCT(*))\u001b[39;49m\n\u001b[0;32m      <a href='vscode-notebook-cell:/c%3A/Users/Harika.pedapudi/Desktop/work/src/python/snowpatrol/SnowPatrol_Licence_Revocation_Snowpark.ipynb#X36sZmlsZQ%3D%3D?line=5'>6</a>\u001b[0m \u001b[39m      FROM TABLE(\u001b[39;49m\n\u001b[0;32m      <a href='vscode-notebook-cell:/c%3A/Users/Harika.pedapudi/Desktop/work/src/python/snowpatrol/SnowPatrol_Licence_Revocation_Snowpark.ipynb#X36sZmlsZQ%3D%3D?line=6'>7</a>\u001b[0m \u001b[39m        INFER_SCHEMA(\u001b[39;49m\n\u001b[0;32m      <a href='vscode-notebook-cell:/c%3A/Users/Harika.pedapudi/Desktop/work/src/python/snowpatrol/SnowPatrol_Licence_Revocation_Snowpark.ipynb#X36sZmlsZQ%3D%3D?line=7'>8</a>\u001b[0m \u001b[39m          LOCATION=>\u001b[39;49m\u001b[39m'\u001b[39;49m\u001b[39m@\u001b[39;49m\u001b[39m{\u001b[39;49;00mSNOWPATROL_DB\u001b[39m}\u001b[39;49;00m\u001b[39m.\u001b[39;49m\u001b[39m{\u001b[39;49;00mSNOWPATROL_SCHEMA\u001b[39m}\u001b[39;49;00m\u001b[39m.\u001b[39;49m\u001b[39m{\u001b[39;49;00mDATA_STAGE\u001b[39m}\u001b[39;49;00m\u001b[39m/revoc.csv\u001b[39;49m\u001b[39m'\u001b[39;49m\u001b[39m,\u001b[39;49m\n\u001b[0;32m      <a href='vscode-notebook-cell:/c%3A/Users/Harika.pedapudi/Desktop/work/src/python/snowpatrol/SnowPatrol_Licence_Revocation_Snowpark.ipynb#X36sZmlsZQ%3D%3D?line=8'>9</a>\u001b[0m \u001b[39m          FILE_FORMAT=>\u001b[39;49m\u001b[39m'\u001b[39;49m\u001b[39msnowpatrol.main.ff_csv_with_header\u001b[39;49m\u001b[39m'\u001b[39;49m\u001b[39m,\u001b[39;49m\n\u001b[0;32m     <a href='vscode-notebook-cell:/c%3A/Users/Harika.pedapudi/Desktop/work/src/python/snowpatrol/SnowPatrol_Licence_Revocation_Snowpark.ipynb#X36sZmlsZQ%3D%3D?line=9'>10</a>\u001b[0m \u001b[39m          IGNORE_CASE => TRUE\u001b[39;49m\n\u001b[0;32m     <a href='vscode-notebook-cell:/c%3A/Users/Harika.pedapudi/Desktop/work/src/python/snowpatrol/SnowPatrol_Licence_Revocation_Snowpark.ipynb#X36sZmlsZQ%3D%3D?line=10'>11</a>\u001b[0m \u001b[39m        )\u001b[39;49m\n\u001b[0;32m     <a href='vscode-notebook-cell:/c%3A/Users/Harika.pedapudi/Desktop/work/src/python/snowpatrol/SnowPatrol_Licence_Revocation_Snowpark.ipynb#X36sZmlsZQ%3D%3D?line=11'>12</a>\u001b[0m \u001b[39m      ))\u001b[39;49m\n\u001b[0;32m     <a href='vscode-notebook-cell:/c%3A/Users/Harika.pedapudi/Desktop/work/src/python/snowpatrol/SnowPatrol_Licence_Revocation_Snowpark.ipynb#X36sZmlsZQ%3D%3D?line=12'>13</a>\u001b[0m \u001b[39m    \u001b[39;49m\u001b[39m\"\"\"\u001b[39;49m\n\u001b[1;32m---> <a href='vscode-notebook-cell:/c%3A/Users/Harika.pedapudi/Desktop/work/src/python/snowpatrol/SnowPatrol_Licence_Revocation_Snowpark.ipynb#X36sZmlsZQ%3D%3D?line=13'>14</a>\u001b[0m )\u001b[39m.\u001b[39;49mcollect()\n\u001b[0;32m     <a href='vscode-notebook-cell:/c%3A/Users/Harika.pedapudi/Desktop/work/src/python/snowpatrol/SnowPatrol_Licence_Revocation_Snowpark.ipynb#X36sZmlsZQ%3D%3D?line=14'>15</a>\u001b[0m session\u001b[39m.\u001b[39msql(\u001b[39mf\u001b[39m\u001b[39m\"\u001b[39m\u001b[39mTRUNCATE TABLE \u001b[39m\u001b[39m{\u001b[39;00mSNOWPATROL_DB\u001b[39m}\u001b[39;00m\u001b[39m.\u001b[39m\u001b[39m{\u001b[39;00mSNOWPATROL_SCHEMA\u001b[39m}\u001b[39;00m\u001b[39m.\u001b[39m\u001b[39m{\u001b[39;00mTBL_REVOC\u001b[39m}\u001b[39;00m\u001b[39m\"\u001b[39m)\u001b[39m.\u001b[39mcollect()\n\u001b[0;32m     <a href='vscode-notebook-cell:/c%3A/Users/Harika.pedapudi/Desktop/work/src/python/snowpatrol/SnowPatrol_Licence_Revocation_Snowpark.ipynb#X36sZmlsZQ%3D%3D?line=16'>17</a>\u001b[0m session\u001b[39m.\u001b[39msql(\n\u001b[0;32m     <a href='vscode-notebook-cell:/c%3A/Users/Harika.pedapudi/Desktop/work/src/python/snowpatrol/SnowPatrol_Licence_Revocation_Snowpark.ipynb#X36sZmlsZQ%3D%3D?line=17'>18</a>\u001b[0m     \u001b[39mf\u001b[39m\u001b[39m\"\"\"\u001b[39m\u001b[39m \u001b[39m\n\u001b[0;32m     <a href='vscode-notebook-cell:/c%3A/Users/Harika.pedapudi/Desktop/work/src/python/snowpatrol/SnowPatrol_Licence_Revocation_Snowpark.ipynb#X36sZmlsZQ%3D%3D?line=18'>19</a>\u001b[0m \u001b[39m    copy into \u001b[39m\u001b[39m{\u001b[39;00mSNOWPATROL_DB\u001b[39m}\u001b[39;00m\u001b[39m.\u001b[39m\u001b[39m{\u001b[39;00mSNOWPATROL_SCHEMA\u001b[39m}\u001b[39;00m\u001b[39m.\u001b[39m\u001b[39m{\u001b[39;00mTBL_REVOC\u001b[39m}\u001b[39;00m\n\u001b[1;32m   (...)\u001b[0m\n\u001b[0;32m     <a href='vscode-notebook-cell:/c%3A/Users/Harika.pedapudi/Desktop/work/src/python/snowpatrol/SnowPatrol_Licence_Revocation_Snowpark.ipynb#X36sZmlsZQ%3D%3D?line=21'>22</a>\u001b[0m \u001b[39m    file_format = (type = CSV skip_header=1 field_optionally_enclosed_by=\u001b[39m\u001b[39m'\u001b[39m\u001b[39m\"\u001b[39m\u001b[39m'\u001b[39m\u001b[39m)\u001b[39m\n\u001b[0;32m     <a href='vscode-notebook-cell:/c%3A/Users/Harika.pedapudi/Desktop/work/src/python/snowpatrol/SnowPatrol_Licence_Revocation_Snowpark.ipynb#X36sZmlsZQ%3D%3D?line=22'>23</a>\u001b[0m \u001b[39m\"\"\"\u001b[39m)\u001b[39m.\u001b[39mcollect()\n",
      "File \u001b[1;32mc:\\Users\\Harika.pedapudi\\AppData\\Local\\Programs\\Python\\Python310\\lib\\site-packages\\snowflake\\snowpark\\_internal\\telemetry.py:139\u001b[0m, in \u001b[0;36mdf_collect_api_telemetry.<locals>.wrap\u001b[1;34m(*args, **kwargs)\u001b[0m\n\u001b[0;32m    136\u001b[0m \u001b[39m@functools\u001b[39m\u001b[39m.\u001b[39mwraps(func)\n\u001b[0;32m    137\u001b[0m \u001b[39mdef\u001b[39;00m \u001b[39mwrap\u001b[39m(\u001b[39m*\u001b[39margs, \u001b[39m*\u001b[39m\u001b[39m*\u001b[39mkwargs):\n\u001b[0;32m    138\u001b[0m     \u001b[39mwith\u001b[39;00m args[\u001b[39m0\u001b[39m]\u001b[39m.\u001b[39m_session\u001b[39m.\u001b[39mquery_history() \u001b[39mas\u001b[39;00m query_history:\n\u001b[1;32m--> 139\u001b[0m         result \u001b[39m=\u001b[39m func(\u001b[39m*\u001b[39margs, \u001b[39m*\u001b[39m\u001b[39m*\u001b[39mkwargs)\n\u001b[0;32m    140\u001b[0m     plan \u001b[39m=\u001b[39m args[\u001b[39m0\u001b[39m]\u001b[39m.\u001b[39m_select_statement \u001b[39mor\u001b[39;00m args[\u001b[39m0\u001b[39m]\u001b[39m.\u001b[39m_plan\n\u001b[0;32m    141\u001b[0m     api_calls \u001b[39m=\u001b[39m [\n\u001b[0;32m    142\u001b[0m         \u001b[39m*\u001b[39mplan\u001b[39m.\u001b[39mapi_calls,\n\u001b[0;32m    143\u001b[0m         {TelemetryField\u001b[39m.\u001b[39mNAME\u001b[39m.\u001b[39mvalue: \u001b[39mf\u001b[39m\u001b[39m\"\u001b[39m\u001b[39mDataFrame.\u001b[39m\u001b[39m{\u001b[39;00mfunc\u001b[39m.\u001b[39m\u001b[39m__name__\u001b[39m\u001b[39m}\u001b[39;00m\u001b[39m\"\u001b[39m},\n\u001b[0;32m    144\u001b[0m     ]\n",
      "File \u001b[1;32mc:\\Users\\Harika.pedapudi\\AppData\\Local\\Programs\\Python\\Python310\\lib\\site-packages\\snowflake\\snowpark\\dataframe.py:588\u001b[0m, in \u001b[0;36mDataFrame.collect\u001b[1;34m(self, statement_params, block, log_on_exception, case_sensitive)\u001b[0m\n\u001b[0;32m    565\u001b[0m \u001b[39m@df_collect_api_telemetry\u001b[39m\n\u001b[0;32m    566\u001b[0m \u001b[39mdef\u001b[39;00m \u001b[39mcollect\u001b[39m(\n\u001b[0;32m    567\u001b[0m     \u001b[39mself\u001b[39m,\n\u001b[1;32m   (...)\u001b[0m\n\u001b[0;32m    572\u001b[0m     case_sensitive: \u001b[39mbool\u001b[39m \u001b[39m=\u001b[39m \u001b[39mTrue\u001b[39;00m,\n\u001b[0;32m    573\u001b[0m ) \u001b[39m-\u001b[39m\u001b[39m>\u001b[39m Union[List[Row], AsyncJob]:\n\u001b[0;32m    574\u001b[0m \u001b[39m    \u001b[39m\u001b[39m\"\"\"Executes the query representing this DataFrame and returns the result as a\u001b[39;00m\n\u001b[0;32m    575\u001b[0m \u001b[39m    list of :class:`Row` objects.\u001b[39;00m\n\u001b[0;32m    576\u001b[0m \n\u001b[1;32m   (...)\u001b[0m\n\u001b[0;32m    586\u001b[0m \u001b[39m        :meth:`collect_nowait()`\u001b[39;00m\n\u001b[0;32m    587\u001b[0m \u001b[39m    \"\"\"\u001b[39;00m\n\u001b[1;32m--> 588\u001b[0m     \u001b[39mreturn\u001b[39;00m \u001b[39mself\u001b[39;49m\u001b[39m.\u001b[39;49m_internal_collect_with_tag_no_telemetry(\n\u001b[0;32m    589\u001b[0m         statement_params\u001b[39m=\u001b[39;49mstatement_params,\n\u001b[0;32m    590\u001b[0m         block\u001b[39m=\u001b[39;49mblock,\n\u001b[0;32m    591\u001b[0m         log_on_exception\u001b[39m=\u001b[39;49mlog_on_exception,\n\u001b[0;32m    592\u001b[0m         case_sensitive\u001b[39m=\u001b[39;49mcase_sensitive,\n\u001b[0;32m    593\u001b[0m     )\n",
      "File \u001b[1;32mc:\\Users\\Harika.pedapudi\\AppData\\Local\\Programs\\Python\\Python310\\lib\\site-packages\\snowflake\\snowpark\\dataframe.py:635\u001b[0m, in \u001b[0;36mDataFrame._internal_collect_with_tag_no_telemetry\u001b[1;34m(self, statement_params, block, data_type, log_on_exception, case_sensitive)\u001b[0m\n\u001b[0;32m    623\u001b[0m \u001b[39mdef\u001b[39;00m \u001b[39m_internal_collect_with_tag_no_telemetry\u001b[39m(\n\u001b[0;32m    624\u001b[0m     \u001b[39mself\u001b[39m,\n\u001b[0;32m    625\u001b[0m     \u001b[39m*\u001b[39m,\n\u001b[1;32m   (...)\u001b[0m\n\u001b[0;32m    633\u001b[0m     \u001b[39m# we should always call this method instead of collect(), to make sure the\u001b[39;00m\n\u001b[0;32m    634\u001b[0m     \u001b[39m# query tag is set properly.\u001b[39;00m\n\u001b[1;32m--> 635\u001b[0m     \u001b[39mreturn\u001b[39;00m \u001b[39mself\u001b[39;49m\u001b[39m.\u001b[39;49m_session\u001b[39m.\u001b[39;49m_conn\u001b[39m.\u001b[39;49mexecute(\n\u001b[0;32m    636\u001b[0m         \u001b[39mself\u001b[39;49m\u001b[39m.\u001b[39;49m_plan,\n\u001b[0;32m    637\u001b[0m         block\u001b[39m=\u001b[39;49mblock,\n\u001b[0;32m    638\u001b[0m         data_type\u001b[39m=\u001b[39;49mdata_type,\n\u001b[0;32m    639\u001b[0m         _statement_params\u001b[39m=\u001b[39;49mcreate_or_update_statement_params_with_query_tag(\n\u001b[0;32m    640\u001b[0m             statement_params \u001b[39mor\u001b[39;49;00m \u001b[39mself\u001b[39;49m\u001b[39m.\u001b[39;49m_statement_params,\n\u001b[0;32m    641\u001b[0m             \u001b[39mself\u001b[39;49m\u001b[39m.\u001b[39;49m_session\u001b[39m.\u001b[39;49mquery_tag,\n\u001b[0;32m    642\u001b[0m             SKIP_LEVELS_THREE,\n\u001b[0;32m    643\u001b[0m         ),\n\u001b[0;32m    644\u001b[0m         log_on_exception\u001b[39m=\u001b[39;49mlog_on_exception,\n\u001b[0;32m    645\u001b[0m         case_sensitive\u001b[39m=\u001b[39;49mcase_sensitive,\n\u001b[0;32m    646\u001b[0m     )\n",
      "File \u001b[1;32mc:\\Users\\Harika.pedapudi\\AppData\\Local\\Programs\\Python\\Python310\\lib\\site-packages\\snowflake\\snowpark\\_internal\\server_connection.py:445\u001b[0m, in \u001b[0;36mServerConnection.execute\u001b[1;34m(self, plan, to_pandas, to_iter, block, data_type, log_on_exception, case_sensitive, **kwargs)\u001b[0m\n\u001b[0;32m    441\u001b[0m \u001b[39mif\u001b[39;00m is_in_stored_procedure() \u001b[39mand\u001b[39;00m \u001b[39mnot\u001b[39;00m block:  \u001b[39m# pragma: no cover\u001b[39;00m\n\u001b[0;32m    442\u001b[0m     \u001b[39mraise\u001b[39;00m \u001b[39mNotImplementedError\u001b[39;00m(\n\u001b[0;32m    443\u001b[0m         \u001b[39m\"\u001b[39m\u001b[39mAsync query is not supported in stored procedure yet\u001b[39m\u001b[39m\"\u001b[39m\n\u001b[0;32m    444\u001b[0m     )\n\u001b[1;32m--> 445\u001b[0m result_set, result_meta \u001b[39m=\u001b[39m \u001b[39mself\u001b[39m\u001b[39m.\u001b[39mget_result_set(\n\u001b[0;32m    446\u001b[0m     plan,\n\u001b[0;32m    447\u001b[0m     to_pandas,\n\u001b[0;32m    448\u001b[0m     to_iter,\n\u001b[0;32m    449\u001b[0m     \u001b[39m*\u001b[39m\u001b[39m*\u001b[39mkwargs,\n\u001b[0;32m    450\u001b[0m     block\u001b[39m=\u001b[39mblock,\n\u001b[0;32m    451\u001b[0m     data_type\u001b[39m=\u001b[39mdata_type,\n\u001b[0;32m    452\u001b[0m     log_on_exception\u001b[39m=\u001b[39mlog_on_exception,\n\u001b[0;32m    453\u001b[0m     case_sensitive\u001b[39m=\u001b[39mcase_sensitive,\n\u001b[0;32m    454\u001b[0m )\n\u001b[0;32m    455\u001b[0m \u001b[39mif\u001b[39;00m \u001b[39mnot\u001b[39;00m block:\n\u001b[0;32m    456\u001b[0m     \u001b[39mreturn\u001b[39;00m result_set\n",
      "File \u001b[1;32mc:\\Users\\Harika.pedapudi\\AppData\\Local\\Programs\\Python\\Python310\\lib\\site-packages\\snowflake\\snowpark\\_internal\\analyzer\\snowflake_plan.py:181\u001b[0m, in \u001b[0;36mSnowflakePlan.Decorator.wrap_exception.<locals>.wrap\u001b[1;34m(*args, **kwargs)\u001b[0m\n\u001b[0;32m    177\u001b[0m \u001b[39melse\u001b[39;00m:\n\u001b[0;32m    178\u001b[0m     ne \u001b[39m=\u001b[39m SnowparkClientExceptionMessages\u001b[39m.\u001b[39mSQL_EXCEPTION_FROM_PROGRAMMING_ERROR(\n\u001b[0;32m    179\u001b[0m         e\n\u001b[0;32m    180\u001b[0m     )\n\u001b[1;32m--> 181\u001b[0m     \u001b[39mraise\u001b[39;00m ne\u001b[39m.\u001b[39mwith_traceback(tb) \u001b[39mfrom\u001b[39;00m \u001b[39mNone\u001b[39;00m\n",
      "File \u001b[1;32mc:\\Users\\Harika.pedapudi\\AppData\\Local\\Programs\\Python\\Python310\\lib\\site-packages\\snowflake\\snowpark\\_internal\\analyzer\\snowflake_plan.py:111\u001b[0m, in \u001b[0;36mSnowflakePlan.Decorator.wrap_exception.<locals>.wrap\u001b[1;34m(*args, **kwargs)\u001b[0m\n\u001b[0;32m    109\u001b[0m \u001b[39mdef\u001b[39;00m \u001b[39mwrap\u001b[39m(\u001b[39m*\u001b[39margs, \u001b[39m*\u001b[39m\u001b[39m*\u001b[39mkwargs):\n\u001b[0;32m    110\u001b[0m     \u001b[39mtry\u001b[39;00m:\n\u001b[1;32m--> 111\u001b[0m         \u001b[39mreturn\u001b[39;00m func(\u001b[39m*\u001b[39margs, \u001b[39m*\u001b[39m\u001b[39m*\u001b[39mkwargs)\n\u001b[0;32m    112\u001b[0m     \u001b[39mexcept\u001b[39;00m snowflake\u001b[39m.\u001b[39mconnector\u001b[39m.\u001b[39merrors\u001b[39m.\u001b[39mProgrammingError \u001b[39mas\u001b[39;00m e:\n\u001b[0;32m    113\u001b[0m         query \u001b[39m=\u001b[39m \u001b[39mNone\u001b[39;00m\n",
      "File \u001b[1;32mc:\\Users\\Harika.pedapudi\\AppData\\Local\\Programs\\Python\\Python310\\lib\\site-packages\\snowflake\\snowpark\\_internal\\server_connection.py:546\u001b[0m, in \u001b[0;36mServerConnection.get_result_set\u001b[1;34m(self, plan, to_pandas, to_iter, block, data_type, log_on_exception, case_sensitive, **kwargs)\u001b[0m\n\u001b[0;32m    544\u001b[0m \u001b[39mfor\u001b[39;00m holder, id_ \u001b[39min\u001b[39;00m placeholders\u001b[39m.\u001b[39mitems():\n\u001b[0;32m    545\u001b[0m     final_query \u001b[39m=\u001b[39m final_query\u001b[39m.\u001b[39mreplace(holder, id_)\n\u001b[1;32m--> 546\u001b[0m result \u001b[39m=\u001b[39m \u001b[39mself\u001b[39m\u001b[39m.\u001b[39mrun_query(\n\u001b[0;32m    547\u001b[0m     final_query,\n\u001b[0;32m    548\u001b[0m     to_pandas,\n\u001b[0;32m    549\u001b[0m     to_iter \u001b[39mand\u001b[39;00m (i \u001b[39m==\u001b[39m \u001b[39mlen\u001b[39m(plan\u001b[39m.\u001b[39mqueries) \u001b[39m-\u001b[39m \u001b[39m1\u001b[39m),\n\u001b[0;32m    550\u001b[0m     is_ddl_on_temp_object\u001b[39m=\u001b[39mquery\u001b[39m.\u001b[39mis_ddl_on_temp_object,\n\u001b[0;32m    551\u001b[0m     block\u001b[39m=\u001b[39m\u001b[39mnot\u001b[39;00m is_last,\n\u001b[0;32m    552\u001b[0m     data_type\u001b[39m=\u001b[39mdata_type,\n\u001b[0;32m    553\u001b[0m     async_job_plan\u001b[39m=\u001b[39mplan,\n\u001b[0;32m    554\u001b[0m     log_on_exception\u001b[39m=\u001b[39mlog_on_exception,\n\u001b[0;32m    555\u001b[0m     case_sensitive\u001b[39m=\u001b[39mcase_sensitive,\n\u001b[0;32m    556\u001b[0m     params\u001b[39m=\u001b[39mquery\u001b[39m.\u001b[39mparams,\n\u001b[0;32m    557\u001b[0m     \u001b[39m*\u001b[39m\u001b[39m*\u001b[39mkwargs,\n\u001b[0;32m    558\u001b[0m )\n\u001b[0;32m    559\u001b[0m placeholders[query\u001b[39m.\u001b[39mquery_id_place_holder] \u001b[39m=\u001b[39m (\n\u001b[0;32m    560\u001b[0m     result[\u001b[39m\"\u001b[39m\u001b[39msfqid\u001b[39m\u001b[39m\"\u001b[39m] \u001b[39mif\u001b[39;00m \u001b[39mnot\u001b[39;00m is_last \u001b[39melse\u001b[39;00m result\u001b[39m.\u001b[39mquery_id\n\u001b[0;32m    561\u001b[0m )\n\u001b[0;32m    562\u001b[0m result_meta \u001b[39m=\u001b[39m \u001b[39mself\u001b[39m\u001b[39m.\u001b[39m_cursor\u001b[39m.\u001b[39mdescription\n",
      "File \u001b[1;32mc:\\Users\\Harika.pedapudi\\AppData\\Local\\Programs\\Python\\Python310\\lib\\site-packages\\snowflake\\snowpark\\_internal\\server_connection.py:102\u001b[0m, in \u001b[0;36mServerConnection._Decorator.wrap_exception.<locals>.wrap\u001b[1;34m(*args, **kwargs)\u001b[0m\n\u001b[0;32m     98\u001b[0m     \u001b[39mraise\u001b[39;00m SnowparkClientExceptionMessages\u001b[39m.\u001b[39mSERVER_SESSION_EXPIRED(\n\u001b[0;32m     99\u001b[0m         ex\u001b[39m.\u001b[39mcause\n\u001b[0;32m    100\u001b[0m     )\n\u001b[0;32m    101\u001b[0m \u001b[39mexcept\u001b[39;00m \u001b[39mException\u001b[39;00m \u001b[39mas\u001b[39;00m ex:\n\u001b[1;32m--> 102\u001b[0m     \u001b[39mraise\u001b[39;00m ex\n",
      "File \u001b[1;32mc:\\Users\\Harika.pedapudi\\AppData\\Local\\Programs\\Python\\Python310\\lib\\site-packages\\snowflake\\snowpark\\_internal\\server_connection.py:96\u001b[0m, in \u001b[0;36mServerConnection._Decorator.wrap_exception.<locals>.wrap\u001b[1;34m(*args, **kwargs)\u001b[0m\n\u001b[0;32m     94\u001b[0m     \u001b[39mraise\u001b[39;00m SnowparkClientExceptionMessages\u001b[39m.\u001b[39mSERVER_SESSION_HAS_BEEN_CLOSED()\n\u001b[0;32m     95\u001b[0m \u001b[39mtry\u001b[39;00m:\n\u001b[1;32m---> 96\u001b[0m     \u001b[39mreturn\u001b[39;00m func(\u001b[39m*\u001b[39margs, \u001b[39m*\u001b[39m\u001b[39m*\u001b[39mkwargs)\n\u001b[0;32m     97\u001b[0m \u001b[39mexcept\u001b[39;00m ReauthenticationRequest \u001b[39mas\u001b[39;00m ex:\n\u001b[0;32m     98\u001b[0m     \u001b[39mraise\u001b[39;00m SnowparkClientExceptionMessages\u001b[39m.\u001b[39mSERVER_SESSION_EXPIRED(\n\u001b[0;32m     99\u001b[0m         ex\u001b[39m.\u001b[39mcause\n\u001b[0;32m    100\u001b[0m     )\n",
      "File \u001b[1;32mc:\\Users\\Harika.pedapudi\\AppData\\Local\\Programs\\Python\\Python310\\lib\\site-packages\\snowflake\\snowpark\\_internal\\server_connection.py:366\u001b[0m, in \u001b[0;36mServerConnection.run_query\u001b[1;34m(self, query, to_pandas, to_iter, is_ddl_on_temp_object, block, data_type, async_job_plan, log_on_exception, case_sensitive, params, num_statements, **kwargs)\u001b[0m\n\u001b[0;32m    364\u001b[0m         query_id_log \u001b[39m=\u001b[39m \u001b[39mf\u001b[39m\u001b[39m\"\u001b[39m\u001b[39m [queryID: \u001b[39m\u001b[39m{\u001b[39;00mex\u001b[39m.\u001b[39msfqid\u001b[39m}\u001b[39;00m\u001b[39m]\u001b[39m\u001b[39m\"\u001b[39m \u001b[39mif\u001b[39;00m \u001b[39mhasattr\u001b[39m(ex, \u001b[39m\"\u001b[39m\u001b[39msfqid\u001b[39m\u001b[39m\"\u001b[39m) \u001b[39melse\u001b[39;00m \u001b[39m\"\u001b[39m\u001b[39m\"\u001b[39m\n\u001b[0;32m    365\u001b[0m         logger\u001b[39m.\u001b[39merror(\u001b[39mf\u001b[39m\u001b[39m\"\u001b[39m\u001b[39mFailed to execute query\u001b[39m\u001b[39m{\u001b[39;00mquery_id_log\u001b[39m}\u001b[39;00m\u001b[39m \u001b[39m\u001b[39m{\u001b[39;00mquery\u001b[39m}\u001b[39;00m\u001b[39m\\n\u001b[39;00m\u001b[39m{\u001b[39;00mex\u001b[39m}\u001b[39;00m\u001b[39m\"\u001b[39m)\n\u001b[1;32m--> 366\u001b[0m     \u001b[39mraise\u001b[39;00m ex\n\u001b[0;32m    368\u001b[0m \u001b[39m# fetch_pandas_all/batches() only works for SELECT statements\u001b[39;00m\n\u001b[0;32m    369\u001b[0m \u001b[39m# We call fetchall() if fetch_pandas_all/batches() fails,\u001b[39;00m\n\u001b[0;32m    370\u001b[0m \u001b[39m# because when the query plan has multiple queries, it will\u001b[39;00m\n\u001b[0;32m    371\u001b[0m \u001b[39m# have non-select statements, and it shouldn't fail if the user\u001b[39;00m\n\u001b[0;32m    372\u001b[0m \u001b[39m# calls to_pandas() to execute the query.\u001b[39;00m\n\u001b[0;32m    373\u001b[0m \u001b[39mif\u001b[39;00m block:\n",
      "File \u001b[1;32mc:\\Users\\Harika.pedapudi\\AppData\\Local\\Programs\\Python\\Python310\\lib\\site-packages\\snowflake\\snowpark\\_internal\\server_connection.py:347\u001b[0m, in \u001b[0;36mServerConnection.run_query\u001b[1;34m(self, query, to_pandas, to_iter, is_ddl_on_temp_object, block, data_type, async_job_plan, log_on_exception, case_sensitive, params, num_statements, **kwargs)\u001b[0m\n\u001b[0;32m    345\u001b[0m     kwargs[\u001b[39m\"\u001b[39m\u001b[39m_statement_params\u001b[39m\u001b[39m\"\u001b[39m][\u001b[39m\"\u001b[39m\u001b[39mSNOWPARK_SKIP_TXN_COMMIT_IN_DDL\u001b[39m\u001b[39m\"\u001b[39m] \u001b[39m=\u001b[39m \u001b[39mTrue\u001b[39;00m\n\u001b[0;32m    346\u001b[0m \u001b[39mif\u001b[39;00m block:\n\u001b[1;32m--> 347\u001b[0m     results_cursor \u001b[39m=\u001b[39m \u001b[39mself\u001b[39m\u001b[39m.\u001b[39m_cursor\u001b[39m.\u001b[39mexecute(query, params\u001b[39m=\u001b[39mparams, \u001b[39m*\u001b[39m\u001b[39m*\u001b[39mkwargs)\n\u001b[0;32m    348\u001b[0m     \u001b[39mself\u001b[39m\u001b[39m.\u001b[39mnotify_query_listeners(\n\u001b[0;32m    349\u001b[0m         QueryRecord(results_cursor\u001b[39m.\u001b[39msfqid, results_cursor\u001b[39m.\u001b[39mquery)\n\u001b[0;32m    350\u001b[0m     )\n\u001b[0;32m    351\u001b[0m     logger\u001b[39m.\u001b[39mdebug(\u001b[39mf\u001b[39m\u001b[39m\"\u001b[39m\u001b[39mExecute query [queryID: \u001b[39m\u001b[39m{\u001b[39;00mresults_cursor\u001b[39m.\u001b[39msfqid\u001b[39m}\u001b[39;00m\u001b[39m] \u001b[39m\u001b[39m{\u001b[39;00mquery\u001b[39m}\u001b[39;00m\u001b[39m\"\u001b[39m)\n",
      "File \u001b[1;32mc:\\Users\\Harika.pedapudi\\AppData\\Local\\Programs\\Python\\Python310\\lib\\site-packages\\snowflake\\connector\\cursor.py:908\u001b[0m, in \u001b[0;36mSnowflakeCursor.execute\u001b[1;34m(self, command, params, _bind_stage, timeout, _exec_async, _no_retry, _do_reset, _put_callback, _put_azure_callback, _put_callback_output_stream, _get_callback, _get_azure_callback, _get_callback_output_stream, _show_progress_bar, _statement_params, _is_internal, _describe_only, _no_results, _is_put_get, _raise_put_get_error, _force_put_overwrite, _skip_upload_on_content_match, file_stream, num_statements)\u001b[0m\n\u001b[0;32m    904\u001b[0m     is_integrity_error \u001b[39m=\u001b[39m (\n\u001b[0;32m    905\u001b[0m         code \u001b[39m==\u001b[39m \u001b[39m\"\u001b[39m\u001b[39m100072\u001b[39m\u001b[39m\"\u001b[39m\n\u001b[0;32m    906\u001b[0m     )  \u001b[39m# NULL result in a non-nullable column\u001b[39;00m\n\u001b[0;32m    907\u001b[0m     error_class \u001b[39m=\u001b[39m IntegrityError \u001b[39mif\u001b[39;00m is_integrity_error \u001b[39melse\u001b[39;00m ProgrammingError\n\u001b[1;32m--> 908\u001b[0m     Error\u001b[39m.\u001b[39;49merrorhandler_wrapper(\u001b[39mself\u001b[39;49m\u001b[39m.\u001b[39;49mconnection, \u001b[39mself\u001b[39;49m, error_class, errvalue)\n\u001b[0;32m    909\u001b[0m \u001b[39mreturn\u001b[39;00m \u001b[39mself\u001b[39m\n",
      "File \u001b[1;32mc:\\Users\\Harika.pedapudi\\AppData\\Local\\Programs\\Python\\Python310\\lib\\site-packages\\snowflake\\connector\\errors.py:290\u001b[0m, in \u001b[0;36mError.errorhandler_wrapper\u001b[1;34m(connection, cursor, error_class, error_value)\u001b[0m\n\u001b[0;32m    267\u001b[0m \u001b[39m@staticmethod\u001b[39m\n\u001b[0;32m    268\u001b[0m \u001b[39mdef\u001b[39;00m \u001b[39merrorhandler_wrapper\u001b[39m(\n\u001b[0;32m    269\u001b[0m     connection: SnowflakeConnection \u001b[39m|\u001b[39m \u001b[39mNone\u001b[39;00m,\n\u001b[1;32m   (...)\u001b[0m\n\u001b[0;32m    272\u001b[0m     error_value: \u001b[39mdict\u001b[39m[\u001b[39mstr\u001b[39m, Any],\n\u001b[0;32m    273\u001b[0m ) \u001b[39m-\u001b[39m\u001b[39m>\u001b[39m \u001b[39mNone\u001b[39;00m:\n\u001b[0;32m    274\u001b[0m \u001b[39m    \u001b[39m\u001b[39m\"\"\"Error handler wrapper that calls the errorhandler method.\u001b[39;00m\n\u001b[0;32m    275\u001b[0m \n\u001b[0;32m    276\u001b[0m \u001b[39m    Args:\u001b[39;00m\n\u001b[1;32m   (...)\u001b[0m\n\u001b[0;32m    287\u001b[0m \u001b[39m        exception to the first handler in that order.\u001b[39;00m\n\u001b[0;32m    288\u001b[0m \u001b[39m    \"\"\"\u001b[39;00m\n\u001b[1;32m--> 290\u001b[0m     handed_over \u001b[39m=\u001b[39m Error\u001b[39m.\u001b[39;49mhand_to_other_handler(\n\u001b[0;32m    291\u001b[0m         connection,\n\u001b[0;32m    292\u001b[0m         cursor,\n\u001b[0;32m    293\u001b[0m         error_class,\n\u001b[0;32m    294\u001b[0m         error_value,\n\u001b[0;32m    295\u001b[0m     )\n\u001b[0;32m    296\u001b[0m     \u001b[39mif\u001b[39;00m \u001b[39mnot\u001b[39;00m handed_over:\n\u001b[0;32m    297\u001b[0m         \u001b[39mraise\u001b[39;00m Error\u001b[39m.\u001b[39merrorhandler_make_exception(\n\u001b[0;32m    298\u001b[0m             error_class,\n\u001b[0;32m    299\u001b[0m             error_value,\n\u001b[0;32m    300\u001b[0m         )\n",
      "File \u001b[1;32mc:\\Users\\Harika.pedapudi\\AppData\\Local\\Programs\\Python\\Python310\\lib\\site-packages\\snowflake\\connector\\errors.py:345\u001b[0m, in \u001b[0;36mError.hand_to_other_handler\u001b[1;34m(connection, cursor, error_class, error_value)\u001b[0m\n\u001b[0;32m    343\u001b[0m \u001b[39mif\u001b[39;00m cursor \u001b[39mis\u001b[39;00m \u001b[39mnot\u001b[39;00m \u001b[39mNone\u001b[39;00m:\n\u001b[0;32m    344\u001b[0m     cursor\u001b[39m.\u001b[39mmessages\u001b[39m.\u001b[39mappend((error_class, error_value))\n\u001b[1;32m--> 345\u001b[0m     cursor\u001b[39m.\u001b[39;49merrorhandler(connection, cursor, error_class, error_value)\n\u001b[0;32m    346\u001b[0m     \u001b[39mreturn\u001b[39;00m \u001b[39mTrue\u001b[39;00m\n\u001b[0;32m    347\u001b[0m \u001b[39melif\u001b[39;00m connection \u001b[39mis\u001b[39;00m \u001b[39mnot\u001b[39;00m \u001b[39mNone\u001b[39;00m:\n",
      "File \u001b[1;32mc:\\Users\\Harika.pedapudi\\AppData\\Local\\Programs\\Python\\Python310\\lib\\site-packages\\snowflake\\connector\\errors.py:221\u001b[0m, in \u001b[0;36mError.default_errorhandler\u001b[1;34m(connection, cursor, error_class, error_value)\u001b[0m\n\u001b[0;32m    219\u001b[0m errno \u001b[39m=\u001b[39m error_value\u001b[39m.\u001b[39mget(\u001b[39m\"\u001b[39m\u001b[39merrno\u001b[39m\u001b[39m\"\u001b[39m)\n\u001b[0;32m    220\u001b[0m done_format_msg \u001b[39m=\u001b[39m error_value\u001b[39m.\u001b[39mget(\u001b[39m\"\u001b[39m\u001b[39mdone_format_msg\u001b[39m\u001b[39m\"\u001b[39m)\n\u001b[1;32m--> 221\u001b[0m \u001b[39mraise\u001b[39;00m error_class(\n\u001b[0;32m    222\u001b[0m     msg\u001b[39m=\u001b[39merror_value\u001b[39m.\u001b[39mget(\u001b[39m\"\u001b[39m\u001b[39mmsg\u001b[39m\u001b[39m\"\u001b[39m),\n\u001b[0;32m    223\u001b[0m     errno\u001b[39m=\u001b[39m\u001b[39mNone\u001b[39;00m \u001b[39mif\u001b[39;00m errno \u001b[39mis\u001b[39;00m \u001b[39mNone\u001b[39;00m \u001b[39melse\u001b[39;00m \u001b[39mint\u001b[39m(errno),\n\u001b[0;32m    224\u001b[0m     sqlstate\u001b[39m=\u001b[39merror_value\u001b[39m.\u001b[39mget(\u001b[39m\"\u001b[39m\u001b[39msqlstate\u001b[39m\u001b[39m\"\u001b[39m),\n\u001b[0;32m    225\u001b[0m     sfqid\u001b[39m=\u001b[39merror_value\u001b[39m.\u001b[39mget(\u001b[39m\"\u001b[39m\u001b[39msfqid\u001b[39m\u001b[39m\"\u001b[39m),\n\u001b[0;32m    226\u001b[0m     query\u001b[39m=\u001b[39merror_value\u001b[39m.\u001b[39mget(\u001b[39m\"\u001b[39m\u001b[39mquery\u001b[39m\u001b[39m\"\u001b[39m),\n\u001b[0;32m    227\u001b[0m     done_format_msg\u001b[39m=\u001b[39m(\n\u001b[0;32m    228\u001b[0m         \u001b[39mNone\u001b[39;00m \u001b[39mif\u001b[39;00m done_format_msg \u001b[39mis\u001b[39;00m \u001b[39mNone\u001b[39;00m \u001b[39melse\u001b[39;00m \u001b[39mbool\u001b[39m(done_format_msg)\n\u001b[0;32m    229\u001b[0m     ),\n\u001b[0;32m    230\u001b[0m     connection\u001b[39m=\u001b[39mconnection,\n\u001b[0;32m    231\u001b[0m     cursor\u001b[39m=\u001b[39mcursor,\n\u001b[0;32m    232\u001b[0m )\n",
      "\u001b[1;31mSnowparkSQLException\u001b[0m: (1304): 01af4427-3200-e77f-0004-089e0004e5fe: 000668 (22023): SQL compilation error:\nInvalid template: template must be a non-null JSON array\n"
     ]
    }
   ],
   "source": [
    "# session.sql(\n",
    "#     f\"\"\"\n",
    "#     CREATE TABLE IF NOT EXISTS {SNOWPATROL_DB}.{SNOWPATROL_SCHEMA}.{TBL_REVOC}\n",
    "#     USING TEMPLATE (\n",
    "#     SELECT ARRAY_AGG(OBJECT_CONSTRUCT(*))\n",
    "#       FROM TABLE(\n",
    "#         INFER_SCHEMA(\n",
    "#           LOCATION=>'@{SNOWPATROL_DB}.{SNOWPATROL_SCHEMA}.{DATA_STAGE}/revoc.csv',\n",
    "#           FILE_FORMAT=>'snowpatrol.main.ff_csv_with_header',\n",
    "#           IGNORE_CASE => TRUE\n",
    "#         )\n",
    "#       ))\n",
    "#     \"\"\"\n",
    "# ).collect()\n",
    "# session.sql(f\"TRUNCATE TABLE {SNOWPATROL_DB}.{SNOWPATROL_SCHEMA}.{TBL_REVOC}\").collect()\n",
    "\n",
    "# session.sql(\n",
    "#     f\"\"\" \n",
    "#     copy into {SNOWPATROL_DB}.{SNOWPATROL_SCHEMA}.{TBL_REVOC}\n",
    "#     from @{SNOWPATROL_DB}.{SNOWPATROL_SCHEMA}.{DATA_STAGE}\n",
    "#     files = ('revoc.csv.gz')\n",
    "#     file_format = (type = CSV skip_header=1 field_optionally_enclosed_by='\"')\n",
    "# \"\"\").collect()"
   ]
  },
  {
   "cell_type": "code",
   "execution_count": 31,
   "id": "0b90e200",
   "metadata": {},
   "outputs": [],
   "source": [
    "# license_prediction_feature_set = session.table(f\"{SNOWPATROL_DB}.{SNOWPATROL_SCHEMA}.license_prediction_feature_set\")\n",
    "# license_usage_probability = license_prediction_feature_set.select(\n",
    "#     F.col(\"session_user\")\n",
    "#     , F.col(\"title\")\n",
    "#     , F.col(\"department\")\n",
    "#     , F.col(\"division\")\n",
    "#     , F.col(\"work_days_since_last_login\")\n",
    "#     ,F.col(\"training_date\").alias(\"model_trained_on\")\n",
    "#     ,F.col(\"cutoff_date\")\n",
    "#     , F.call_udf(f\"{SNOWPATROL_DB}.{SNOWPATROL_SCHEMA}.udf_predict_login_probability\", *[F.col(c) for c in [\"weighted_authentications_per_day\",\"work_days_since_last_login\", 'authentications_per_day', 'log_work_days_since_last_login']]).alias(\"probability_no_login\")\n",
    "# )\n",
    "# license_revocation_decision = license_usage_probability.with_column(\"revoke_access\", F.iff(F.col(\"probability_no_login\") > 0.5, 1, 0))\n",
    "\n",
    "# license_revocation_decision.write.mode(\"overwrite\").save_as_table(f\"{SNOWPATROL_DB}.{SNOWPATROL_SCHEMA}.license_revocation_decision\")"
   ]
  },
  {
   "cell_type": "code",
   "execution_count": null,
   "id": "891bd68c",
   "metadata": {},
   "outputs": [],
   "source": []
  }
 ],
 "metadata": {
  "kernelspec": {
   "display_name": "Python 3 (ipykernel)",
   "language": "python",
   "name": "python3"
  },
  "language_info": {
   "codemirror_mode": {
    "name": "ipython",
    "version": 3
   },
   "file_extension": ".py",
   "mimetype": "text/x-python",
   "name": "python",
   "nbconvert_exporter": "python",
   "pygments_lexer": "ipython3",
   "version": "3.10.11"
  }
 },
 "nbformat": 4,
 "nbformat_minor": 5
}
